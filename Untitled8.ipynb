{
 "cells": [
  {
   "cell_type": "code",
   "execution_count": null,
   "id": "f2200fbd",
   "metadata": {},
   "outputs": [],
   "source": [
    "def list1(arr):\n",
    "    for x in range (len(arr[0])-1):\n",
    "        if arr[0][x]==arr[1]:\n",
    "            return True\n",
    "    return False\n",
    "print(list1(([1,2,3,5,8], 6)))"
   ]
  },
  {
   "cell_type": "code",
   "execution_count": null,
   "id": "d8bc67fc",
   "metadata": {},
   "outputs": [],
   "source": [
    "def power(a,b):\n",
    "   return a**b\n",
    "a= int(input())\n",
    "b= int(input())\n",
    "print(power(a,b))\n",
    "x = [29,13,22,37,52,49,46,71,56,2]"
   ]
  },
  {
   "cell_type": "code",
   "execution_count": null,
   "id": "d7102ccb",
   "metadata": {},
   "outputs": [],
   "source": [
    "x = [29,13,22,37,52,49,46,71,56,2]\n",
    "for j in range(len(x)-1):\n",
    "     for i in range(len(x)-1):\n",
    "        if x[i] > x[i+1]:\n",
    "            x[i], x[i+1] = x[i+1], x[i]\n",
    "print(x)"
   ]
  },
  {
   "cell_type": "code",
   "execution_count": null,
   "id": "afbf75f4",
   "metadata": {},
   "outputs": [],
   "source": [
    "a=[29,13,22,37,52,49,46,71,56]\n",
    "def mergesort(a):\n",
    "    if len(a)>1:\n",
    "        mid = len(a)//2\n",
    "        left_a=a[:mid]\n",
    "        right_a=a[mid:]\n",
    "        mergesort(left_a)\n",
    "        mergesort(right_a)\n",
    "        i=0\n",
    "        j=0\n",
    "        k=0\n",
    "        while i <len(left_a) and j <len(right_a):\n",
    "            if left_a[i]<right_a[j]:\n",
    "                a[k] = left_a[i]\n",
    "                i=i+1\n",
    "                k=k+1\n",
    "            else:\n",
    "                a[k] = right_a[j]\n",
    "                j=j+1\n",
    "                k=k+1\n",
    "        while i <len(left_a):\n",
    "            a[k] = left_a[i]\n",
    "            i=i+1\n",
    "            k=k+1\n",
    "        while j<len(right_a):\n",
    "            a[k] = right_a[j]\n",
    "            j=j+1\n",
    "            k=k+1\n",
    "mergesort(a)\n",
    "print(a)"
   ]
  },
  {
   "cell_type": "code",
   "execution_count": 21,
   "id": "851ddf1b",
   "metadata": {},
   "outputs": [
    {
     "name": "stdout",
     "output_type": "stream",
     "text": [
      "[13, 22, 29, 37, 46, 49, 52, 56, 71]\n"
     ]
    }
   ],
   "source": [
    "def partition(array, start, end):\n",
    "    pivot = array[start]\n",
    "    low = start + 1\n",
    "    high = end\n",
    "    while True:\n",
    "        while low <= high and array[high] >= pivot:\n",
    "            high = high - 1\n",
    "        while low <= high and array[low] <= pivot:\n",
    "            low = low + 1\n",
    "        if low <= high:\n",
    "            array[low], array[high] = array[high], array[low]\n",
    "        else:\n",
    "            break\n",
    "    array[start], array[high] = array[high], array[start]\n",
    "\n",
    "    return high\n",
    "def quick_sort(array, start, end):\n",
    "    if start >= end:\n",
    "        return\n",
    "\n",
    "    p = partition(array, start, end)\n",
    "    quick_sort(array, start, p-1)\n",
    "    quick_sort(array, p+1, end)\n",
    "array = [29,13,22,37,52,49,46,71,56]\n",
    "quick_sort(array, 0, len(array) - 1)\n",
    "print(array)"
   ]
  },
  {
   "cell_type": "code",
   "execution_count": null,
   "id": "23f86156",
   "metadata": {},
   "outputs": [],
   "source": []
  },
  {
   "cell_type": "code",
   "execution_count": null,
   "id": "4fd0c100",
   "metadata": {},
   "outputs": [],
   "source": []
  }
 ],
 "metadata": {
  "kernelspec": {
   "display_name": "Python 3 (ipykernel)",
   "language": "python",
   "name": "python3"
  },
  "language_info": {
   "codemirror_mode": {
    "name": "ipython",
    "version": 3
   },
   "file_extension": ".py",
   "mimetype": "text/x-python",
   "name": "python",
   "nbconvert_exporter": "python",
   "pygments_lexer": "ipython3",
   "version": "3.9.12"
  }
 },
 "nbformat": 4,
 "nbformat_minor": 5
}
